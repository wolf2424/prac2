{
 "cells": [
  {
   "cell_type": "markdown",
   "id": "b681726b",
   "metadata": {},
   "source": [
    "Protein Structure Prediction. Task: Predict the 3D structure of a given protein sequence\n",
    "using homology modeling or threading techniques. Deliverable: A report presenting the\n",
    "predicted protein structure, along with an analysis of its potential functions and interactions"
   ]
  },
  {
   "cell_type": "code",
   "execution_count": 1,
   "id": "563cf04a",
   "metadata": {},
   "outputs": [],
   "source": [
    "import numpy as np\n",
    "from Bio import SeqIO, Align\n",
    "from Bio.PDB import *\n",
    "import warnings\n",
    "from Bio import BiopythonWarning\n",
    "\n",
    "# Suppress Biopython warnings\n",
    "warnings.simplefilter('ignore', BiopythonWarning)"
   ]
  },
  {
   "cell_type": "code",
   "execution_count": 3,
   "id": "38435246",
   "metadata": {},
   "outputs": [],
   "source": [
    "aa_properties = {\n",
    "    'A': {'hydrophobicity': 1.8, 'volume': 88.6, 'polarity': 0},\n",
    "    'R': {'hydrophobicity': -4.5, 'volume': 173.4, 'polarity': 1},\n",
    "    'N': {'hydrophobicity': -3.5, 'volume': 114.1, 'polarity': 1},\n",
    "    # ... (other amino acids would be defined similarly)\n",
    "}\n",
    "\n",
    "# Secondary structure propensities\n",
    "ss_propensities = {\n",
    "    'A': {'helix': 1.42, 'sheet': 0.83, 'coil': 0.9},\n",
    "    'R': {'helix': 1.21, 'sheet': 0.93, 'coil': 0.99},\n",
    "    'N': {'helix': 0.67, 'sheet': 0.89, 'coil': 1.33},\n",
    "    # ... (other amino acids would be defined similarly)\n",
    "}"
   ]
  },
  {
   "cell_type": "code",
   "execution_count": 4,
   "id": "50481e84",
   "metadata": {},
   "outputs": [],
   "source": [
    "def search_template_database(query_sequence):\n",
    "    \"\"\"Simulate searching for template structures in the PDB database.\"\"\"\n",
    "    mock_template = {\n",
    "        'pdb_id': '1ABC',\n",
    "        'sequence': 'SIMILAR_SEQUENCE',\n",
    "        'resolution': 2.5,\n",
    "        'coordinates': np.random.rand(len(query_sequence), 3)\n",
    "    }\n",
    "    return mock_template"
   ]
  },
  {
   "cell_type": "code",
   "execution_count": 5,
   "id": "9fd70743",
   "metadata": {},
   "outputs": [],
   "source": [
    "def align_sequences(query_sequence, template_sequence):\n",
    "    \"\"\"Perform sequence alignment between query and template.\"\"\"\n",
    "    aligner = Align.PairwiseAligner()\n",
    "    aligner.open_gap_score = -10\n",
    "    aligner.extend_gap_score = -0.5\n",
    "    alignments = aligner.align(query_sequence, template_sequence)\n",
    "    return alignments[0]"
   ]
  },
  {
   "cell_type": "code",
   "execution_count": 6,
   "id": "e8d94315",
   "metadata": {},
   "outputs": [],
   "source": [
    "def predict_secondary_structure(sequence):\n",
    "    \"\"\"Predict secondary structure using propensities.\"\"\"\n",
    "    structure = []\n",
    "    window_size = 5\n",
    "    padded_seq = 'X' * (window_size // 2) + sequence + 'X' * (window_size // 2)\n",
    "    \n",
    "    for i in range(len(sequence)):\n",
    "        window = padded_seq[i:i + window_size]\n",
    "        helix_score = sheet_score = coil_score = 0\n",
    "\n",
    "        # Calculate propensity scores\n",
    "        for aa in window:\n",
    "            if aa in ss_propensities:\n",
    "                helix_score += ss_propensities[aa]['helix']\n",
    "                sheet_score += ss_propensities[aa]['sheet']\n",
    "                coil_score += ss_propensities[aa]['coil']\n",
    "\n",
    "        # Assign structure based on highest score\n",
    "        if max(helix_score, sheet_score, coil_score) == helix_score:\n",
    "            structure.append('H')\n",
    "        elif max(helix_score, sheet_score, coil_score) == sheet_score:\n",
    "            structure.append('E')\n",
    "        else:\n",
    "            structure.append('C')\n",
    "    \n",
    "    return ''.join(structure)"
   ]
  },
  {
   "cell_type": "code",
   "execution_count": 7,
   "id": "36572582",
   "metadata": {},
   "outputs": [],
   "source": [
    "def build_backbone(sequence, secondary_structure):\n",
    "    \"\"\"Build basic backbone structure using predicted secondary structure.\"\"\"\n",
    "    coordinates = np.zeros((len(sequence), 3))\n",
    "    current_pos = np.array([0.0, 0.0, 0.0])\n",
    "    \n",
    "    for i in range(len(sequence)):\n",
    "        if secondary_structure[i] == 'H':  # Helix\n",
    "            current_pos += np.array([1.5, 0.5, 0.5])\n",
    "        elif secondary_structure[i] == 'E':  # Sheet\n",
    "            current_pos += np.array([1.5, 0.0, 0.0])\n",
    "        else:  # Coil\n",
    "            current_pos += np.array([1.0, np.random.rand(), np.random.rand()])\n",
    "        coordinates[i] = current_pos\n",
    "    \n",
    "    return coordinates"
   ]
  },
  {
   "cell_type": "code",
   "execution_count": 8,
   "id": "806d702e",
   "metadata": {},
   "outputs": [],
   "source": [
    "def refine_structure(coordinates):\n",
    "    \"\"\"Simple structure refinement.\"\"\"\n",
    "    refined_coords = coordinates + np.random.normal(0, 0.1, coordinates.shape)\n",
    "    return refined_coords"
   ]
  },
  {
   "cell_type": "code",
   "execution_count": 9,
   "id": "7b7c0483",
   "metadata": {},
   "outputs": [],
   "source": [
    "def save_structure(coordinates, sequence, filename):\n",
    "    \"\"\"Save predicted structure in PDB format.\"\"\"\n",
    "    structure = Structure.Structure('predicted')\n",
    "    model = Model.Model(0)\n",
    "    chain = Chain.Chain('A')\n",
    "    \n",
    "    for i, (coord, aa) in enumerate(zip(coordinates, sequence)):\n",
    "        residue = Residue.Residue((' ', i, ' '), aa, '')\n",
    "        atom = Atom.Atom('CA', coord, 20.0, 1.0, ' ', 'CA', i, 'C')\n",
    "        residue.add(atom)\n",
    "        chain.add(residue)\n",
    "    \n",
    "    model.add(chain)\n",
    "    structure.add(model)\n",
    "    \n",
    "    io = PDBIO()\n",
    "    io.set_structure(structure)\n",
    "    io.save(filename)"
   ]
  },
  {
   "cell_type": "code",
   "execution_count": 10,
   "id": "f3df4b99",
   "metadata": {},
   "outputs": [],
   "source": [
    "def predict_structure(sequence):\n",
    "    \"\"\"Main function to predict protein structure.\"\"\"\n",
    "    # Step 1: Search for template\n",
    "    template = search_template_database(sequence)\n",
    "    \n",
    "    # Step 2: Align sequences\n",
    "    alignment = align_sequences(sequence, template['sequence'])\n",
    "    \n",
    "    # Step 3: Predict secondary structure\n",
    "    secondary_structure = predict_secondary_structure(sequence)\n",
    "    \n",
    "    # Step 4: Build initial backbone\n",
    "    initial_coords = build_backbone(sequence, secondary_structure)\n",
    "    \n",
    "    # Step 5: Refine structure\n",
    "    final_coords = refine_structure(initial_coords)\n",
    "    \n",
    "    return {\n",
    "        'coordinates': final_coords,\n",
    "        'secondary_structure': secondary_structure,\n",
    "        'alignment': alignment,\n",
    "        'template_used': template['pdb_id']\n",
    "    }"
   ]
  },
  {
   "cell_type": "code",
   "execution_count": 11,
   "id": "75f05dca",
   "metadata": {},
   "outputs": [],
   "source": [
    "def main():\n",
    "    \"\"\"Example usage.\"\"\"\n",
    "    sequence = \"MKWVTFISLLLLFSSAYSRGVFRRDAHKSEVAHRFKDLGEENFKALVLIAFAQYLQQCP\"\n",
    "    \n",
    "    result = predict_structure(sequence)\n",
    "    \n",
    "    save_structure(\n",
    "        result['coordinates'],\n",
    "        sequence,\n",
    "        'predicted_structure.pdb'\n",
    "    )\n",
    "    \n",
    "    print(f\"Secondary structure prediction: {result['secondary_structure']}\")\n",
    "    print(f\"Template used: {result['template_used']}\")\n",
    "    print(\"Structure has been saved to 'predicted_structure.pdb'\")\n"
   ]
  },
  {
   "cell_type": "code",
   "execution_count": 12,
   "id": "738c4f24",
   "metadata": {},
   "outputs": [
    {
     "name": "stdout",
     "output_type": "stream",
     "text": [
      "Secondary structure prediction: HHHHHHHHHHHHHHHHHHHHHHHHHHHHHHHHHHHHHHHCCCCCHHHHHHHHHHHHHHH\n",
      "Template used: 1ABC\n",
      "Structure has been saved to 'predicted_structure.pdb'\n"
     ]
    }
   ],
   "source": [
    "if __name__ == \"__main__\":\n",
    "    main()"
   ]
  },
  {
   "cell_type": "raw",
   "id": "ae7481e6",
   "metadata": {},
   "source": [
    "Code Explanation\n",
    "1. Imports and Setup\n",
    "numpy: Used for numerical operations, particularly for creating and manipulating arrays (coordinates of atoms).\n",
    "Bio.Align: Provides tools for sequence alignment.\n",
    "Bio.PDB: Handles operations related to protein structure (e.g., reading/writing PDB files).\n",
    "warnings: Used to suppress non-critical warnings from Biopython.\n",
    "2. Amino Acid Properties and Secondary Structure Propensities\n",
    "These dictionaries define the hydrophobicity, volume, and secondary structure tendencies (helix, sheet, coil) for amino acids. This data is used in secondary structure prediction.\n",
    "3. Functions\n",
    "search_template_database: Simulates searching a database for a structurally similar protein (template) based on the sequence.\n",
    "align_sequences: Aligns the input sequence to the template sequence using pairwise alignment.\n",
    "predict_secondary_structure: Predicts secondary structure based on amino acid sequence using a sliding window approach.\n",
    "build_backbone: Constructs a basic 3D backbone model based on predicted secondary structures (helix, sheet, coil).\n",
    "refine_structure: Applies a simple refinement by adding random noise to simulate energy minimization.\n",
    "save_structure: Saves the predicted 3D structure to a PDB file format.\n",
    "predict_structure: Integrates all steps: template search, sequence alignment, secondary structure prediction, backbone building, and refinement.\n",
    "main: Example sequence execution and saving the final predicted structure."
   ]
  },
  {
   "cell_type": "markdown",
   "id": "2dc01f1e",
   "metadata": {},
   "source": [
    "Viva Questions and Answers\n",
    "1. What is protein structure prediction?\n",
    "Answer: Protein structure prediction involves determining the 3D structure of a protein based on its amino acid sequence. It is essential for understanding the function of the protein and for applications like drug design.\n",
    "2. What are the four levels of protein structure?\n",
    "Answer:\n",
    "Primary Structure: Linear sequence of amino acids.\n",
    "Secondary Structure: Local folding into structures like alpha-helices and beta-sheets.\n",
    "Tertiary Structure: 3D folding of the entire polypeptide chain.\n",
    "Quaternary Structure: Assembly of multiple polypeptide chains.\n",
    "3. Why is sequence alignment important in protein modeling?\n",
    "Answer: Sequence alignment helps identify similar sequences in known structures (templates), which can be used to model the unknown structure of a target protein.\n",
    "4. What is secondary structure prediction?\n",
    "Answer: It predicts regions of a protein sequence that form alpha-helices, beta-sheets, or random coils based on the propensity of each amino acid to form these structures.\n",
    "5. What is the significance of using a sliding window in secondary structure prediction?\n",
    "Answer: A sliding window allows evaluating a segment of the sequence to predict the structure based on surrounding amino acids, providing context for accurate prediction.\n",
    "6. How is the 3D structure of a protein typically represented?\n",
    "Answer: The 3D structure is represented by the spatial coordinates of atoms, often visualized using PDB files that list atom positions.\n",
    "7. What is a PDB file?\n",
    "Answer: A Protein Data Bank (PDB) file is a standard format for representing 3D structures of proteins, nucleic acids, and complex assemblies. It contains atomic coordinates, connectivity, and other structural information.\n",
    "8. What is the role of AgglomerativeClustering in this context?\n",
    "Answer: This is not used in the protein structure prediction code. However, in data clustering contexts, Agglomerative Clustering is a hierarchical clustering method.\n",
    "9. Why do we refine the structure after building the initial backbone?\n",
    "Answer: Refinement helps minimize steric clashes and brings the model closer to a physically realistic conformation by simulating energy minimization.\n",
    "10. How would you improve the accuracy of this prediction model?\n",
    "Answer: Improvements could include using more sophisticated secondary structure prediction methods, incorporating energy-based refinement algorithms, and using databases with a larger set of high-resolution templates."
   ]
  }
 ],
 "metadata": {
  "kernelspec": {
   "display_name": "Python 3 (ipykernel)",
   "language": "python",
   "name": "python3"
  },
  "language_info": {
   "codemirror_mode": {
    "name": "ipython",
    "version": 3
   },
   "file_extension": ".py",
   "mimetype": "text/x-python",
   "name": "python",
   "nbconvert_exporter": "python",
   "pygments_lexer": "ipython3",
   "version": "3.11.5"
  }
 },
 "nbformat": 4,
 "nbformat_minor": 5
}
