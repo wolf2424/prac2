{
 "cells": [
  {
   "cell_type": "markdown",
   "id": "153f2ce1",
   "metadata": {},
   "source": [
    "RNA-Seq Data Analysis. Task: Analyze a provided RNA-Seq dataset and perform differential\n",
    "gene expression analysis. Deliverable: A detailed report presenting the differentially\n",
    "expressed genes, their functional annotations, and any potential biological interpretations."
   ]
  },
  {
   "cell_type": "code",
   "execution_count": 2,
   "id": "f191fcf6",
   "metadata": {},
   "outputs": [],
   "source": [
    "import numpy as np\n",
    "import pandas as pd\n",
    "import statsmodels.api as sm\n",
    "import matplotlib.pyplot as plt\n",
    "import seaborn as sns"
   ]
  },
  {
   "cell_type": "code",
   "execution_count": 3,
   "id": "3b162085",
   "metadata": {},
   "outputs": [],
   "source": [
    "np.random.seed(42)"
   ]
  },
  {
   "cell_type": "code",
   "execution_count": 4,
   "id": "ad0b536a",
   "metadata": {},
   "outputs": [],
   "source": [
    "genes = [f'gene_{i}' for i in range(1, 101)]\n",
    "conditions = ['Control', 'Treatment']"
   ]
  },
  {
   "cell_type": "code",
   "execution_count": 5,
   "id": "42002172",
   "metadata": {},
   "outputs": [],
   "source": [
    "samples = [f'sample_{i}' for i in range(1, 11)]\n",
    "data = np.random.poisson(lam=20, size=(100, 10))"
   ]
  },
  {
   "cell_type": "code",
   "execution_count": 6,
   "id": "302c9a86",
   "metadata": {},
   "outputs": [],
   "source": [
    "data[0:5, 5:10] += 15"
   ]
  },
  {
   "cell_type": "code",
   "execution_count": 7,
   "id": "e9518e92",
   "metadata": {},
   "outputs": [],
   "source": [
    "df = pd.DataFrame(data, index=genes, columns=samples)"
   ]
  },
  {
   "cell_type": "code",
   "execution_count": 8,
   "id": "96473b51",
   "metadata": {},
   "outputs": [],
   "source": [
    "metadata = pd.DataFrame({'sample': samples,\n",
    "                          'condition': ['Control']*5 + ['Treatment']*5})"
   ]
  },
  {
   "cell_type": "code",
   "execution_count": 9,
   "id": "64ce3980",
   "metadata": {},
   "outputs": [],
   "source": [
    "df_norm = df.div(df.sum(axis=0), axis=1) * 10**6\n",
    "df_log = np.log2(df_norm + 1)"
   ]
  },
  {
   "cell_type": "code",
   "execution_count": 10,
   "id": "d61a6865",
   "metadata": {},
   "outputs": [],
   "source": [
    "def differential_expression(df, metadata):\n",
    "    results = []\n",
    "    for gene in df.index:\n",
    "        y = df_log.loc[gene].values\n",
    "        X = pd.get_dummies(metadata['condition'], drop_first=True)\n",
    "        # The line below was modified to cast the DataFrame to float\n",
    "        X = sm.add_constant(X.astype(float))\n",
    "        model = sm.OLS(y, X).fit()\n",
    "        p_value = model.pvalues[1]\n",
    "        results.append({'gene': gene, 'p_value': p_value})\n",
    "\n",
    "    results_df = pd.DataFrame(results)\n",
    "    results_df['adjusted_p_value'] = sm.stats.multipletests(results_df['p_value'], method='fdr_bh')[1]\n",
    "\n",
    "    return results_df"
   ]
  },
  {
   "cell_type": "code",
   "execution_count": 11,
   "id": "dc3227eb",
   "metadata": {},
   "outputs": [],
   "source": [
    "results_df = differential_expression(df_log, metadata)"
   ]
  },
  {
   "cell_type": "code",
   "execution_count": 12,
   "id": "aa8aeba0",
   "metadata": {},
   "outputs": [],
   "source": [
    "deg = results_df[results_df['adjusted_p_value'] < 0.05]"
   ]
  },
  {
   "cell_type": "code",
   "execution_count": 13,
   "id": "a8777983",
   "metadata": {},
   "outputs": [
    {
     "name": "stderr",
     "output_type": "stream",
     "text": [
      "C:\\Users\\neelk\\AppData\\Local\\Temp\\ipykernel_2344\\3666638933.py:8: SettingWithCopyWarning: \n",
      "A value is trying to be set on a copy of a slice from a DataFrame.\n",
      "Try using .loc[row_indexer,col_indexer] = value instead\n",
      "\n",
      "See the caveats in the documentation: https://pandas.pydata.org/pandas-docs/stable/user_guide/indexing.html#returning-a-view-versus-a-copy\n",
      "  deg['annotation'] = deg['gene'].map(annotations).fillna('Unknown')\n"
     ]
    }
   ],
   "source": [
    "annotations = {\n",
    "    'gene_1': 'Pathway A',\n",
    "    'gene_2': 'Pathway B',\n",
    "    'gene_3': 'Pathway C',\n",
    "    'gene_4': 'Pathway D',\n",
    "    'gene_5': 'Pathway E',\n",
    "}\n",
    "deg['annotation'] = deg['gene'].map(annotations).fillna('Unknown')"
   ]
  },
  {
   "cell_type": "code",
   "execution_count": 14,
   "id": "2424cd09",
   "metadata": {},
   "outputs": [
    {
     "data": {
      "image/png": "[encoded data removed]",
      "text/plain": [
       "<Figure size 1000x600 with 1 Axes>"
      ]
     },
     "metadata": {},
     "output_type": "display_data"
    }
   ],
   "source": [
    "plt.figure(figsize=(10, 6))\n",
    "sns.scatterplot(x='gene', y='adjusted_p_value', hue='annotation', data=deg)\n",
    "plt.axhline(y=0.05, color='r', linestyle='--')\n",
    "plt.xlabel('Genes')\n",
    "plt.ylabel('Adjusted P-Value')\n",
    "plt.title('Differentially Expressed Genes')\n",
    "plt.xticks(rotation=90)\n",
    "plt.legend(title='Annotations')\n",
    "plt.tight_layout()\n",
    "plt.show()"
   ]
  },
  {
   "cell_type": "code",
   "execution_count": 15,
   "id": "c66dd501",
   "metadata": {},
   "outputs": [],
   "source": [
    "deg.to_csv('differentially_expressed_genes.csv', index=False)"
   ]
  },
  {
   "cell_type": "code",
   "execution_count": 16,
   "id": "27057e60",
   "metadata": {},
   "outputs": [],
   "source": [
    "report = f\"\"\"\n",
    "RNA-Seq Data Analysis Report\n",
    "\n",
    "Differentially Expressed Genes\n",
    "\n",
    "{deg[['gene', 'adjusted_p_value']]}\n",
    "\n",
    "Functional Annotations\n",
    "\n",
    "{deg[['gene', 'annotation']]}\n",
    "\n",
    "Potential Biological Interpretations\n",
    "\n",
    "The genes gene_1, gene_2, etc., are involved in pathways A, B, etc.\n",
    "These pathways are important for understanding the effect of the treatment condition.\n",
    "\"\"\""
   ]
  },
  {
   "cell_type": "code",
   "execution_count": 17,
   "id": "f0003d6e",
   "metadata": {},
   "outputs": [],
   "source": [
    "with open('RNASeq_Analysis_Report.txt', 'w') as f:\n",
    "    f.write(report)"
   ]
  },
  {
   "cell_type": "code",
   "execution_count": 18,
   "id": "5c24b9aa",
   "metadata": {},
   "outputs": [
    {
     "name": "stdout",
     "output_type": "stream",
     "text": [
      "Analysis complete. Results saved to 'differentially_expressed_genes.csv' and 'RNASeq_Analysis_Report.txt'.\n"
     ]
    }
   ],
   "source": [
    "print(\"Analysis complete. Results saved to 'differentially_expressed_genes.csv' and 'RNASeq_Analysis_Report.txt'.\")"
   ]
  },
  {
   "cell_type": "raw",
   "id": "3a257fac",
   "metadata": {},
   "source": [
    "Imports and Setup:Libraries are imported for numerical operations (numpy), data handling (pandas), statistical modeling (statsmodels), and visualization (matplotlib, seaborn).\n",
    "\n",
    "Data Generation:Simulates count data for 100 genes and 10 samples, with higher expression in the treatment condition for the first five genes.\n",
    "\n",
    "DataFrame Creation:The df DataFrame holds gene expression data, and metadata links each sample to its condition (Control or Treatment).\n",
    "\n",
    "Normalization and Log Transformation:Normalizes counts to counts per million (CPM) and applies log transformation to stabilize variance.\n",
    "\n",
    "Differential Expression Analysis:Fits an Ordinary Least Squares (OLS) model for each gene to test for differential expression between conditions. Adjusts p-values for multiple testing using the Benjamini-Hochberg method.\n",
    "\n",
    "Identify Differentially Expressed Genes:Selects genes with an adjusted p-value below 0.05.\n",
    "\n",
    "Adds functional annotations to genes and creates a scatter plot showing the adjusted p-values of differentially expressed genes.\n",
    "     \n",
    "Save Results:Saves differentially expressed genes and their annotations to CSV and a summary report to a text file.\n",
    "\n",
    "Completion Message: Informs the user that the analysis is complete.\n"
   ]
  },
  {
   "cell_type": "raw",
   "id": "edd282f8",
   "metadata": {},
   "source": [
    "Theory\n",
    "Q: What is the purpose of normalizing the RNA-Seq data?\n",
    "A: Normalization, such as CPM, adjusts for differences in sequencing depth across samples, allowing for fair comparison of gene expression levels.\n",
    "\n",
    "Q: Why is log transformation applied to the data?\n",
    "A: Log transformation stabilizes the variance, making the data more suitable for statistical modeling and reducing the effect of outliers.\n",
    "\n",
    "Q: What is the role of the sm.OLS model in this analysis?\n",
    "A: The sm.OLS model tests the association between gene expression levels and the treatment condition, identifying genes with significant differential expression.\n",
    "\n",
    "Q: Why do we adjust p-values, and what method is used here?\n",
    "A: Adjusting p-values controls the false discovery rate when performing multiple hypothesis tests. The Benjamini-Hochberg method is used here.\n",
    "\n",
    "Q: How are functional annotations helpful in interpreting the results?\n",
    "A: Functional annotations link genes to biological pathways or processes, aiding in understanding the biological implications of differential gene expression.\n",
    "\n",
    "Q: What is the significance of the horizontal red line at p-value 0.05 in the scatter plot?\n",
    "A: The red line marks the threshold for statistical significance. Genes below this line are considered significantly differentially expressed after correction for multiple testing.\n",
    "\n",
    "Q: How can you verify the validity of your differential expression results?\n",
    "A: Results can be validated by replicating the experiment, using independent datasets, or through experimental validation like qPCR."
   ]
  },
  {
   "cell_type": "code",
   "execution_count": null,
   "id": "0eaf71ee",
   "metadata": {},
   "outputs": [],
   "source": []
  }
 ],
 "metadata": {
  "kernelspec": {
   "display_name": "Python 3 (ipykernel)",
   "language": "python",
   "name": "python3"
  },
  "language_info": {
   "codemirror_mode": {
    "name": "ipython",
    "version": 3
   },
   "file_extension": ".py",
   "mimetype": "text/x-python",
   "name": "python",
   "nbconvert_exporter": "python",
   "pygments_lexer": "ipython3",
   "version": "3.11.5"
  }
 },
 "nbformat": 4,
 "nbformat_minor": 5
}
