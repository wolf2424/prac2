{
 "cells": [
  {
   "cell_type": "code",
   "execution_count": 2,
   "id": "cdea9b44",
   "metadata": {},
   "outputs": [
    {
     "name": "stdout",
     "output_type": "stream",
     "text": [
      "Requirement already satisfied: pgmpy in c:\\users\\arpit\\anaconda3\\lib\\site-packages (0.1.26)\n",
      "Requirement already satisfied: networkx in c:\\users\\arpit\\anaconda3\\lib\\site-packages (from pgmpy) (3.1)\n",
      "Requirement already satisfied: numpy in c:\\users\\arpit\\anaconda3\\lib\\site-packages (from pgmpy) (1.24.3)\n",
      "Requirement already satisfied: scipy in c:\\users\\arpit\\anaconda3\\lib\\site-packages (from pgmpy) (1.11.1)\n",
      "Requirement already satisfied: scikit-learn in c:\\users\\arpit\\anaconda3\\lib\\site-packages (from pgmpy) (1.3.0)\n",
      "Requirement already satisfied: pandas in c:\\users\\arpit\\anaconda3\\lib\\site-packages (from pgmpy) (2.0.3)\n",
      "Requirement already satisfied: pyparsing in c:\\users\\arpit\\anaconda3\\lib\\site-packages (from pgmpy) (3.0.9)\n",
      "Requirement already satisfied: torch in c:\\users\\arpit\\anaconda3\\lib\\site-packages (from pgmpy) (2.5.1)\n",
      "Requirement already satisfied: statsmodels in c:\\users\\arpit\\anaconda3\\lib\\site-packages (from pgmpy) (0.14.0)\n",
      "Requirement already satisfied: tqdm in c:\\users\\arpit\\anaconda3\\lib\\site-packages (from pgmpy) (4.65.0)\n",
      "Requirement already satisfied: joblib in c:\\users\\arpit\\anaconda3\\lib\\site-packages (from pgmpy) (1.2.0)\n",
      "Requirement already satisfied: opt-einsum in c:\\users\\arpit\\anaconda3\\lib\\site-packages (from pgmpy) (3.3.0)\n",
      "Requirement already satisfied: xgboost in c:\\users\\arpit\\anaconda3\\lib\\site-packages (from pgmpy) (2.0.2)\n",
      "Requirement already satisfied: google-generativeai in c:\\users\\arpit\\anaconda3\\lib\\site-packages (from pgmpy) (0.8.3)\n",
      "Requirement already satisfied: google-ai-generativelanguage==0.6.10 in c:\\users\\arpit\\anaconda3\\lib\\site-packages (from google-generativeai->pgmpy) (0.6.10)\n",
      "Requirement already satisfied: google-api-core in c:\\users\\arpit\\anaconda3\\lib\\site-packages (from google-generativeai->pgmpy) (2.22.0)\n",
      "Requirement already satisfied: google-api-python-client in c:\\users\\arpit\\anaconda3\\lib\\site-packages (from google-generativeai->pgmpy) (2.149.0)\n",
      "Requirement already satisfied: google-auth>=2.15.0 in c:\\users\\arpit\\anaconda3\\lib\\site-packages (from google-generativeai->pgmpy) (2.23.4)\n",
      "Requirement already satisfied: protobuf in c:\\users\\arpit\\anaconda3\\lib\\site-packages (from google-generativeai->pgmpy) (5.28.3)\n",
      "Requirement already satisfied: pydantic in c:\\users\\arpit\\anaconda3\\lib\\site-packages (from google-generativeai->pgmpy) (1.10.8)\n",
      "Requirement already satisfied: typing-extensions in c:\\users\\arpit\\anaconda3\\lib\\site-packages (from google-generativeai->pgmpy) (4.12.2)\n",
      "Requirement already satisfied: proto-plus<2.0.0dev,>=1.22.3 in c:\\users\\arpit\\anaconda3\\lib\\site-packages (from google-ai-generativelanguage==0.6.10->google-generativeai->pgmpy) (1.25.0)\n",
      "Requirement already satisfied: python-dateutil>=2.8.2 in c:\\users\\arpit\\anaconda3\\lib\\site-packages (from pandas->pgmpy) (2.8.2)\n",
      "Requirement already satisfied: pytz>=2020.1 in c:\\users\\arpit\\anaconda3\\lib\\site-packages (from pandas->pgmpy) (2023.3.post1)\n",
      "Requirement already satisfied: tzdata>=2022.1 in c:\\users\\arpit\\anaconda3\\lib\\site-packages (from pandas->pgmpy) (2023.3)\n",
      "Requirement already satisfied: threadpoolctl>=2.0.0 in c:\\users\\arpit\\anaconda3\\lib\\site-packages (from scikit-learn->pgmpy) (2.2.0)\n",
      "Requirement already satisfied: patsy>=0.5.2 in c:\\users\\arpit\\anaconda3\\lib\\site-packages (from statsmodels->pgmpy) (0.5.3)\n",
      "Requirement already satisfied: packaging>=21.3 in c:\\users\\arpit\\anaconda3\\lib\\site-packages (from statsmodels->pgmpy) (23.1)\n",
      "Requirement already satisfied: filelock in c:\\users\\arpit\\anaconda3\\lib\\site-packages (from torch->pgmpy) (3.9.0)\n",
      "Requirement already satisfied: jinja2 in c:\\users\\arpit\\anaconda3\\lib\\site-packages (from torch->pgmpy) (3.1.2)\n",
      "Requirement already satisfied: fsspec in c:\\users\\arpit\\anaconda3\\lib\\site-packages (from torch->pgmpy) (2023.4.0)\n",
      "Requirement already satisfied: sympy==1.13.1 in c:\\users\\arpit\\anaconda3\\lib\\site-packages (from torch->pgmpy) (1.13.1)\n",
      "Requirement already satisfied: mpmath<1.4,>=1.1.0 in c:\\users\\arpit\\anaconda3\\lib\\site-packages (from sympy==1.13.1->torch->pgmpy) (1.3.0)\n",
      "Requirement already satisfied: colorama in c:\\users\\arpit\\anaconda3\\lib\\site-packages (from tqdm->pgmpy) (0.4.6)\n",
      "Requirement already satisfied: cachetools<6.0,>=2.0.0 in c:\\users\\arpit\\anaconda3\\lib\\site-packages (from google-auth>=2.15.0->google-generativeai->pgmpy) (5.3.2)\n",
      "Requirement already satisfied: pyasn1-modules>=0.2.1 in c:\\users\\arpit\\anaconda3\\lib\\site-packages (from google-auth>=2.15.0->google-generativeai->pgmpy) (0.2.8)\n",
      "Requirement already satisfied: rsa<5,>=3.1.4 in c:\\users\\arpit\\anaconda3\\lib\\site-packages (from google-auth>=2.15.0->google-generativeai->pgmpy) (4.9)\n",
      "Requirement already satisfied: six in c:\\users\\arpit\\anaconda3\\lib\\site-packages (from patsy>=0.5.2->statsmodels->pgmpy) (1.16.0)\n",
      "Requirement already satisfied: googleapis-common-protos<2.0.dev0,>=1.56.2 in c:\\users\\arpit\\anaconda3\\lib\\site-packages (from google-api-core->google-generativeai->pgmpy) (1.65.0)\n",
      "Requirement already satisfied: requests<3.0.0.dev0,>=2.18.0 in c:\\users\\arpit\\anaconda3\\lib\\site-packages (from google-api-core->google-generativeai->pgmpy) (2.31.0)\n",
      "Requirement already satisfied: httplib2<1.dev0,>=0.19.0 in c:\\users\\arpit\\anaconda3\\lib\\site-packages (from google-api-python-client->google-generativeai->pgmpy) (0.22.0)\n",
      "Requirement already satisfied: google-auth-httplib2<1.0.0,>=0.2.0 in c:\\users\\arpit\\anaconda3\\lib\\site-packages (from google-api-python-client->google-generativeai->pgmpy) (0.2.0)\n",
      "Requirement already satisfied: uritemplate<5,>=3.0.1 in c:\\users\\arpit\\anaconda3\\lib\\site-packages (from google-api-python-client->google-generativeai->pgmpy) (4.1.1)\n",
      "Requirement already satisfied: MarkupSafe>=2.0 in c:\\users\\arpit\\anaconda3\\lib\\site-packages (from jinja2->torch->pgmpy) (2.1.1)\n",
      "Requirement already satisfied: grpcio<2.0dev,>=1.33.2 in c:\\users\\arpit\\anaconda3\\lib\\site-packages (from google-api-core->google-generativeai->pgmpy) (1.67.1)\n",
      "Requirement already satisfied: grpcio-status<2.0.dev0,>=1.33.2 in c:\\users\\arpit\\anaconda3\\lib\\site-packages (from google-api-core->google-generativeai->pgmpy) (1.67.1)\n",
      "Requirement already satisfied: pyasn1<0.5.0,>=0.4.6 in c:\\users\\arpit\\anaconda3\\lib\\site-packages (from pyasn1-modules>=0.2.1->google-auth>=2.15.0->google-generativeai->pgmpy) (0.4.8)\n",
      "Requirement already satisfied: charset-normalizer<4,>=2 in c:\\users\\arpit\\anaconda3\\lib\\site-packages (from requests<3.0.0.dev0,>=2.18.0->google-api-core->google-generativeai->pgmpy) (2.0.4)\n",
      "Requirement already satisfied: idna<4,>=2.5 in c:\\users\\arpit\\anaconda3\\lib\\site-packages (from requests<3.0.0.dev0,>=2.18.0->google-api-core->google-generativeai->pgmpy) (3.4)\n",
      "Requirement already satisfied: urllib3<3,>=1.21.1 in c:\\users\\arpit\\anaconda3\\lib\\site-packages (from requests<3.0.0.dev0,>=2.18.0->google-api-core->google-generativeai->pgmpy) (1.26.16)\n",
      "Requirement already satisfied: certifi>=2017.4.17 in c:\\users\\arpit\\anaconda3\\lib\\site-packages (from requests<3.0.0.dev0,>=2.18.0->google-api-core->google-generativeai->pgmpy) (2023.7.22)\n"
     ]
    }
   ],
   "source": [
    "!pip install pgmpy"
   ]
  },
  {
   "cell_type": "code",
   "execution_count": 13,
   "id": "0c9f6d39",
   "metadata": {},
   "outputs": [],
   "source": [
    "import numpy as np\n",
    "import pandas as pd\n",
    "from pgmpy.estimators import MaximumLikelihoodEstimator\n",
    "from pgmpy.models import BayesianNetwork\n",
    "from pgmpy.inference import VariableElimination"
   ]
  },
  {
   "cell_type": "code",
   "execution_count": 14,
   "id": "7ab27502",
   "metadata": {},
   "outputs": [
    {
     "name": "stdout",
     "output_type": "stream",
     "text": [
      "Dataset loaded successfully.\n",
      "\n"
     ]
    }
   ],
   "source": [
    "data = pd.read_csv(\"F:\\BE\\My Cl2\\I3\\heartdisease.csv\")\n",
    "heart_disease = pd.DataFrame(data)\n",
    "print(\"Dataset loaded successfully.\\n\")"
   ]
  },
  {
   "cell_type": "code",
   "execution_count": 15,
   "id": "e2db62aa",
   "metadata": {},
   "outputs": [
    {
     "name": "stdout",
     "output_type": "stream",
     "text": [
      "Sample instances from the dataset:\n",
      "   age  Gender  Family  diet  Lifestyle  cholestrol  heartdisease\n",
      "0    0       0       1     1          3           0             1\n",
      "1    0       1       1     1          3           0             1\n",
      "2    1       0       0     0          2           1             1\n",
      "3    4       0       1     1          3           2             0\n",
      "4    3       1       1     0          0           2             0 \n",
      "\n",
      "Attributes and their datatypes:\n",
      "age             int64\n",
      "Gender          int64\n",
      "Family          int64\n",
      "diet            int64\n",
      "Lifestyle       int64\n",
      "cholestrol      int64\n",
      "heartdisease    int64\n",
      "dtype: object \n",
      "\n"
     ]
    }
   ],
   "source": [
    "print(\"Sample instances from the dataset:\")\n",
    "print(heart_disease.head(), \"\\n\")\n",
    "print(\"Attributes and their datatypes:\")\n",
    "print(heart_disease.dtypes, \"\\n\")\n"
   ]
  },
  {
   "cell_type": "code",
   "execution_count": 16,
   "id": "a687baa5",
   "metadata": {},
   "outputs": [],
   "source": [
    "model = BayesianNetwork([\n",
    "    ('age', 'cholestrol'),  # Using 'cholestrol' instead of 'chol'\n",
    "    ('Gender', 'heartdisease'),  # Using 'Gender' instead of 'sex'\n",
    "    ('Family', 'heartdisease'),  # Assuming Family affects heartdisease\n",
    "    ('diet', 'heartdisease'),  # Assuming diet affects heartdisease\n",
    "    ('Lifestyle', 'heartdisease'),  # Assuming Lifestyle affects heartdisease\n",
    "])"
   ]
  },
  {
   "cell_type": "code",
   "execution_count": 17,
   "id": "da199b52",
   "metadata": {},
   "outputs": [
    {
     "name": "stdout",
     "output_type": "stream",
     "text": [
      "Learning CPD using Maximum Likelihood Estimator...\n"
     ]
    }
   ],
   "source": [
    "print(\"Learning CPD using Maximum Likelihood Estimator...\")\n",
    "model.fit(heart_disease, estimator=MaximumLikelihoodEstimator)\n"
   ]
  },
  {
   "cell_type": "code",
   "execution_count": 18,
   "id": "ade10c56",
   "metadata": {},
   "outputs": [],
   "source": [
    "HeartDisease_infer = VariableElimination(model)"
   ]
  },
  {
   "cell_type": "code",
   "execution_count": 19,
   "id": "21c911bb",
   "metadata": {},
   "outputs": [
    {
     "name": "stdout",
     "output_type": "stream",
     "text": [
      "\n",
      "1. Probability of Heart Disease given evidence age=2:\n",
      "+-----------------+---------------------+\n",
      "| heartdisease    |   phi(heartdisease) |\n",
      "+=================+=====================+\n",
      "| heartdisease(0) |              0.4667 |\n",
      "+-----------------+---------------------+\n",
      "| heartdisease(1) |              0.5333 |\n",
      "+-----------------+---------------------+\n"
     ]
    }
   ],
   "source": [
    "print(\"\\n1. Probability of Heart Disease given evidence age=2:\")\n",
    "q1 = HeartDisease_infer.query(variables=['heartdisease'], evidence={'age': 2})\n",
    "print(q1)"
   ]
  },
  {
   "cell_type": "code",
   "execution_count": 20,
   "id": "956dad2e",
   "metadata": {},
   "outputs": [
    {
     "name": "stdout",
     "output_type": "stream",
     "text": [
      "\n",
      "2. Probability of Heart Disease given evidence cholestrol=1:\n",
      "+-----------------+---------------------+\n",
      "| heartdisease    |   phi(heartdisease) |\n",
      "+=================+=====================+\n",
      "| heartdisease(0) |              0.4667 |\n",
      "+-----------------+---------------------+\n",
      "| heartdisease(1) |              0.5333 |\n",
      "+-----------------+---------------------+\n"
     ]
    }
   ],
   "source": [
    "print(\"\\n2. Probability of Heart Disease given evidence cholestrol=1:\")\n",
    "q2 = HeartDisease_infer.query(variables=['heartdisease'], evidence={'cholestrol': 1})\n",
    "print(q2)"
   ]
  },
  {
   "cell_type": "code",
   "execution_count": null,
   "id": "84c38f8f",
   "metadata": {},
   "outputs": [],
   "source": []
  }
 ],
 "metadata": {
  "kernelspec": {
   "display_name": "Python 3 (ipykernel)",
   "language": "python",
   "name": "python3"
  },
  "language_info": {
   "codemirror_mode": {
    "name": "ipython",
    "version": 3
   },
   "file_extension": ".py",
   "mimetype": "text/x-python",
   "name": "python",
   "nbconvert_exporter": "python",
   "pygments_lexer": "ipython3",
   "version": "3.11.5"
  }
 },
 "nbformat": 4,
 "nbformat_minor": 5
}
