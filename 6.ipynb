{
 "cells": [
  {
   "cell_type": "code",
   "execution_count": 1,
   "id": "dff6ea29",
   "metadata": {},
   "outputs": [],
   "source": [
    "import re\n",
    "from collections import defaultdict\n"
   ]
  },
  {
   "cell_type": "code",
   "execution_count": 2,
   "id": "939647dc",
   "metadata": {},
   "outputs": [],
   "source": [
    "documents = {\n",
    "    1: \"This is the first document. It contains some text.\",\n",
    "    2: \"The second document is longer. It also contains some text.\",\n",
    "    3: \"This is the third document. It is different from the first two.\",\n",
    "}"
   ]
  },
  {
   "cell_type": "code",
   "execution_count": 3,
   "id": "abb34b3a",
   "metadata": {},
   "outputs": [],
   "source": [
    "def preprocess_document(doc):\n",
    "    \n",
    "    tokens = re.findall(r'\\w+', doc.lower())\n",
    "    \n",
    "    stop_words = {\"is\", \"the\", \"it\", \"and\", \"some\"}\n",
    "    return [token for token in tokens if token not in stop_words]"
   ]
  },
  {
   "cell_type": "code",
   "execution_count": 4,
   "id": "41a98823",
   "metadata": {},
   "outputs": [],
   "source": [
    "inverted_index = defaultdict(list)\n",
    "for doc_id, doc_text in documents.items():\n",
    "    tokens = preprocess_document(doc_text)\n",
    "    for token in tokens:\n",
    "        inverted_index[token].append(doc_id)"
   ]
  },
  {
   "cell_type": "code",
   "execution_count": 5,
   "id": "af360eb3",
   "metadata": {},
   "outputs": [],
   "source": [
    "def retrieve_documents(query):\n",
    "    query_tokens = preprocess_document(query)\n",
    "    result = set()\n",
    "    for token in query_tokens:\n",
    "        if token in inverted_index:\n",
    "            result.update(inverted_index[token])\n",
    "    return list(result)"
   ]
  },
  {
   "cell_type": "code",
   "execution_count": 6,
   "id": "cf095fd1",
   "metadata": {},
   "outputs": [],
   "source": [
    "query = \"document contains text\"\n",
    "matching_documents = retrieve_documents(query)"
   ]
  },
  {
   "cell_type": "code",
   "execution_count": 7,
   "id": "67cbc028",
   "metadata": {},
   "outputs": [
    {
     "name": "stdout",
     "output_type": "stream",
     "text": [
      "Matching documents for query: document contains text\n",
      "Document 1 : This is the first document. It contains some text.\n",
      "Document 2 : The second document is longer. It also contains some text.\n",
      "Document 3 : This is the third document. It is different from the first two.\n"
     ]
    }
   ],
   "source": [
    "if matching_documents:\n",
    "    print(\"Matching documents for query:\", query)\n",
    "    for doc_id in matching_documents:\n",
    "        print(\"Document\", doc_id, \":\", documents[doc_id])\n",
    "else:\n",
    "    print(\"No matching documents found.\")"
   ]
  },
  {
   "cell_type": "code",
   "execution_count": null,
   "id": "15f6fae2",
   "metadata": {},
   "outputs": [],
   "source": []
  }
 ],
 "metadata": {
  "kernelspec": {
   "display_name": "Python 3 (ipykernel)",
   "language": "python",
   "name": "python3"
  },
  "language_info": {
   "codemirror_mode": {
    "name": "ipython",
    "version": 3
   },
   "file_extension": ".py",
   "mimetype": "text/x-python",
   "name": "python",
   "nbconvert_exporter": "python",
   "pygments_lexer": "ipython3",
   "version": "3.11.5"
  }
 },
 "nbformat": 4,
 "nbformat_minor": 5
}
