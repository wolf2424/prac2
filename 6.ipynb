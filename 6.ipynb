{
 "cells": [
  {
   "cell_type": "code",
   "execution_count": null,
   "id": "05ea147e",
   "metadata": {},
   "outputs": [],
   "source": [
    "Implement a program for retrieval of documents using inverted files"
   ]
  },
  {
   "cell_type": "code",
   "execution_count": 1,
   "id": "dff6ea29",
   "metadata": {},
   "outputs": [],
   "source": [
    "import re\n",
    "from collections import defaultdict\n"
   ]
  },
  {
   "cell_type": "code",
   "execution_count": 2,
   "id": "939647dc",
   "metadata": {},
   "outputs": [],
   "source": [
    "documents = {\n",
    "    1: \"This is the first document. It contains some text.\",\n",
    "    2: \"The second document is longer. It also contains some text.\",\n",
    "    3: \"This is the third document. It is different from the first two.\",\n",
    "}"
   ]
  },
  {
   "cell_type": "code",
   "execution_count": 3,
   "id": "abb34b3a",
   "metadata": {},
   "outputs": [],
   "source": [
    "def preprocess_document(doc):\n",
    "    \n",
    "    tokens = re.findall(r'\\w+', doc.lower())\n",
    "    \n",
    "    stop_words = {\"is\", \"the\", \"it\", \"and\", \"some\"}\n",
    "    return [token for token in tokens if token not in stop_words]"
   ]
  },
  {
   "cell_type": "code",
   "execution_count": 4,
   "id": "41a98823",
   "metadata": {},
   "outputs": [],
   "source": [
    "inverted_index = defaultdict(list)\n",
    "for doc_id, doc_text in documents.items():\n",
    "    tokens = preprocess_document(doc_text)\n",
    "    for token in tokens:\n",
    "        inverted_index[token].append(doc_id)"
   ]
  },
  {
   "cell_type": "code",
   "execution_count": 5,
   "id": "af360eb3",
   "metadata": {},
   "outputs": [],
   "source": [
    "def retrieve_documents(query):\n",
    "    query_tokens = preprocess_document(query)\n",
    "    result = set()\n",
    "    for token in query_tokens:\n",
    "        if token in inverted_index:\n",
    "            result.update(inverted_index[token])\n",
    "    return list(result)"
   ]
  },
  {
   "cell_type": "code",
   "execution_count": 6,
   "id": "cf095fd1",
   "metadata": {},
   "outputs": [],
   "source": [
    "query = \"document contains text\"\n",
    "matching_documents = retrieve_documents(query)"
   ]
  },
  {
   "cell_type": "code",
   "execution_count": 7,
   "id": "67cbc028",
   "metadata": {},
   "outputs": [
    {
     "name": "stdout",
     "output_type": "stream",
     "text": [
      "Matching documents for query: document contains text\n",
      "Document 1 : This is the first document. It contains some text.\n",
      "Document 2 : The second document is longer. It also contains some text.\n",
      "Document 3 : This is the third document. It is different from the first two.\n"
     ]
    }
   ],
   "source": [
    "if matching_documents:\n",
    "    print(\"Matching documents for query:\", query)\n",
    "    for doc_id in matching_documents:\n",
    "        print(\"Document\", doc_id, \":\", documents[doc_id])\n",
    "else:\n",
    "    print(\"No matching documents found.\")"
   ]
  },
  {
   "cell_type": "raw",
   "id": "c860f6d3",
   "metadata": {},
   "source": [
    "Code Explanation\n",
    "Document Collection:\n",
    "\n",
    "A dictionary documents holds three example documents with their corresponding IDs.\n",
    "Preprocessing Function:\n",
    "\n",
    "The function preprocess_document(doc) converts each document to lowercase, tokenizes it using re.findall(r'\\w+', doc.lower()) (splitting text into alphanumeric words), and removes stopwords.\n",
    "A set of predefined stopwords ({\"is\", \"the\", \"it\", \"and\", \"some\"}) is used to filter out common words that do not contribute significantly to the meaning.\n",
    "Inverted Index Construction:\n",
    "\n",
    "inverted_index = defaultdict(list): Initializes an empty dictionary where each word (or term) maps to a list of document IDs containing that word.\n",
    "A loop processes each document:\n",
    "The document text is tokenized, and each unique word is added to the inverted_index, with the document ID appended to the list for that word.\n",
    "Query Processing and Document Retrieval:\n",
    "\n",
    "retrieve_documents(query) takes a search query, preprocesses it to remove stopwords and tokenize it, and finds matching documents.\n",
    "For each query token, if the token exists in inverted_index, the relevant document IDs are added to the result set.\n",
    "retrieve_documents(query) returns a list of unique document IDs that contain any of the words in the query.\n",
    "Example Query Execution:\n",
    "\n",
    "The query \"document contains text\" is processed, and the IDs of matching documents are printed."
   ]
  },
  {
   "cell_type": "raw",
   "id": "40e68eee",
   "metadata": {},
   "source": [
    "What is an inverted index, and why is it useful?\n",
    "\n",
    "Answer: An inverted index is a data structure that maps terms to their occurrences in documents. It allows efficient retrieval of documents containing specific terms, making it ideal for search engines and information retrieval.\n",
    "\n",
    "How does this code handle case sensitivity and stopwords?\n",
    "Answer: The code converts all text to lowercase to ensure case-insensitive matching and removes a set of predefined stopwords to focus on meaningful terms.\n",
    "\n",
    "Explain the purpose of using defaultdict in constructing the inverted index.\n",
    "Answer: defaultdict with list as the default type automatically initializes a list for each new word, simplifying the addition of document IDs to the inverted index.\n",
    "\n",
    "Why is the set() used in the retrieve_documents function?\n",
    "Answer: set() is used to avoid duplicate document IDs in the results when multiple terms from the query are found in the same document.\n",
    "\n",
    "How could you enhance this inverted index for more advanced search capabilities?\n",
    "Answer: To enhance it, we could add support for phrase queries, term frequency weighting, stemming or lemmatization for better word normalization, or Boolean operators to refine searches further."
   ]
  }
 ],
 "metadata": {
  "kernelspec": {
   "display_name": "Python 3 (ipykernel)",
   "language": "python",
   "name": "python3"
  },
  "language_info": {
   "codemirror_mode": {
    "name": "ipython",
    "version": 3
   },
   "file_extension": ".py",
   "mimetype": "text/x-python",
   "name": "python",
   "nbconvert_exporter": "python",
   "pygments_lexer": "ipython3",
   "version": "3.11.5"
  }
 },
 "nbformat": 4,
 "nbformat_minor": 5
}
