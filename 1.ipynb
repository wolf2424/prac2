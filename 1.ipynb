{
 "cells": [
  {
   "cell_type": "markdown",
   "id": "dfb92878",
   "metadata": {},
   "source": [
    "Analyse a given DNA sequence and perform basic sequence manipulation, including finding\n",
    "motifs, calculating GC content, and identifying coding regions."
   ]
  },
  {
   "cell_type": "code",
   "execution_count": 1,
   "id": "cd3cadad",
   "metadata": {},
   "outputs": [
    {
     "name": "stdout",
     "output_type": "stream",
     "text": [
      "DNA sequence: ATGCATCGATCGTACGATCGTAGCTAGCTAGCTAGCTAGCTAGCTAGCTAGCTAGCTAGCTAGCTAGCTAGCTAGCTAGCTAGCTAGCTAGCTAGCTAGCTAGCTAGCTAGCTAGCTAGCTAGCTAGCTAGCTAGCTAGCTAGCTAGCTAGCTAGCTAGCTAGCTAGCTAGCTAGCTAGCTAGCTAGCTAGCTAGCTAGCTAGCTAGCTAGCTAGCTAGCTAGCTAGCTAGCTAGCTAGCTAGCTAGCTAGCTAGCTAGCTAGCTAGCTAGCTAGCTAGCTAGCTAGCTAGCTAGCTAGCTAGCTAGCTAGCTAGCTAGCTAGCTAGCTAGCTAGCTAGCTAGCTAGCTAGCTAGCTAGCTAGCTAGCTAGCTAGCTAGCTAGCTAGCTAGCTAGCTAGCTAGCTAGCTAGCTAGCTAGCTAGCTAGCTAGCTAGCTAGCTAGCTAGCTA\n"
     ]
    }
   ],
   "source": [
    "dna_sequence = open(r\"F:\\BE\\My Cl2\\B1\\dna_sequence.txt\").read().strip()\n",
    "print(\"DNA sequence:\", dna_sequence)"
   ]
  },
  {
   "cell_type": "code",
   "execution_count": 2,
   "id": "0655759b",
   "metadata": {},
   "outputs": [
    {
     "name": "stdout",
     "output_type": "stream",
     "text": [
      "GC Content: 49.77777777777778 %\n"
     ]
    }
   ],
   "source": [
    "gc_content = (dna_sequence.count(\"G\") + dna_sequence.count(\"C\")) / len(dna_sequence) * 100\n",
    "print(\"GC Content:\", gc_content, \"%\")"
   ]
  },
  {
   "cell_type": "code",
   "execution_count": 4,
   "id": "ec2751b1",
   "metadata": {},
   "outputs": [
    {
     "name": "stdout",
     "output_type": "stream",
     "text": [
      "Motif CGT found at positions: [10, 18]\n"
     ]
    }
   ],
   "source": [
    "motif = \"CGT\"\n",
    "motif_positions = [i for i in range(len(dna_sequence)) if dna_sequence.startswith(motif, i)]\n",
    "print(\"Motif\", motif, \"found at positions:\", motif_positions)"
   ]
  },
  {
   "cell_type": "code",
   "execution_count": 5,
   "id": "77aa7732",
   "metadata": {},
   "outputs": [
    {
     "name": "stdout",
     "output_type": "stream",
     "text": [
      "Coding regions found:\n",
      "Start: 0 End: 27 Sequence: ATGCATCGATCGTACGATCGTAGCTAG\n"
     ]
    }
   ],
   "source": [
    "start_codon = \"ATG\"\n",
    "stop_codons = [\"TAA\", \"TAG\", \"TGA\"]\n",
    "coding_regions = []\n",
    "\n",
    "for i in range(len(dna_sequence) - 2):\n",
    "    if dna_sequence[i:i + 3] == start_codon:\n",
    "        for j in range(i + 3, len(dna_sequence) - 2, 3):\n",
    "            if dna_sequence[j:j + 3] in stop_codons:\n",
    "                coding_regions.append((i, j + 3))\n",
    "                break\n",
    "\n",
    "if coding_regions:\n",
    "    print(\"Coding regions found:\")\n",
    "    for start, end in coding_regions:\n",
    "        print(\"Start:\", start, \"End:\", end, \"Sequence:\", dna_sequence[start:end])\n",
    "else:\n",
    "    print(\"No coding regions found.\")"
   ]
  },
  {
   "cell_type": "code",
   "execution_count": 6,
   "id": "5517c806",
   "metadata": {},
   "outputs": [
    {
     "name": "stdout",
     "output_type": "stream",
     "text": [
      "Summary of DNA Sequence Analysis:\n",
      "GC Content: 49.77777777777778 %\n",
      "Motif positions: [10, 18]\n",
      "Coding regions: [(0, 27)]\n"
     ]
    }
   ],
   "source": [
    "#optional\n",
    "print(\"Summary of DNA Sequence Analysis:\")\n",
    "print(\"GC Content:\", gc_content, \"%\")\n",
    "print(\"Motif positions:\", motif_positions)\n",
    "print(\"Coding regions:\", coding_regions)"
   ]
  },
  {
   "cell_type": "raw",
   "id": "bb933993",
   "metadata": {},
   "source": [
    "Code Explanation\n",
    "\n",
    "Loading and Displaying DNA Sequence:\n",
    "The DNA sequence is loaded from a text file, stripped of any whitespace, and printed. The r prefix in the file path treats it as a raw string, allowing special characters in file paths without escaping them.\n",
    "\n",
    "Calculating GC Content:\n",
    "GC content is a measure of the proportion of guanine (G) and cytosine (C) in the sequence. It's calculated as the number of G and C bases divided by the sequence length, multiplied by 100 to get a percentage.\n",
    "\n",
    "Finding Motif Positions:\n",
    "This section searches for occurrences of the motif “CGT” within the DNA sequence. It iterates over the sequence and uses the startswith method to check if the substring at each position matches the motif.This section searches for occurrences of the motif “CGT” within the DNA sequence. It iterates over the sequence and uses the startswith method to check if the substring at each position matches the motif.\n",
    "\n",
    "\n",
    "Identifying Coding Regions:\n",
    "Coding regions typically begin with a start codon (\"ATG\") and end with one of the stop codons (\"TAA\", \"TAG\", or \"TGA\"). This code identifies coding regions by finding start-stop codon pairs and appends their start and end positions to coding_regions.\n",
    "\n",
    "Summary of Analysis:\n",
    "This optional section prints a summary of the analysis results, including GC content, motif positions, and identified coding regions.\n"
   ]
  },
  {
   "cell_type": "raw",
   "id": "f95c20d4",
   "metadata": {},
   "source": [
    "Theory\n",
    "What is GC content, and why is it important?\n",
    "GC content represents the percentage of guanine and cytosine bases in a DNA sequence. It’s important because GC-rich regions tend to be more stable due to the triple hydrogen bonds between G and C, compared to the double bonds in AT pairs. GC content can impact the DNA's melting temperature and the stability of the sequence.\n",
    "\n",
    "How does this code identify coding regions in the DNA sequence?\n",
    "he code identifies coding regions by locating the start codon (\"ATG\") and then searching for the nearest stop codon (\"TAA,\" \"TAG,\" or \"TGA\") downstream. When a start-stop pair is found, it’s considered a coding region, and the code stores the start and end indices of that region.\n",
    "\n",
    "Why do we use the startswith method to find motifs?\n",
    "The startswith method is used because it efficiently checks if the substring starting at a specific position matches the motif. This is faster and more concise than manually comparing each substring to the motif.\n",
    "\n",
    "What does the code do if no coding regions are found?\n",
    "f no coding regions are found, the code outputs \"No coding regions found.\" This avoids errors and provides feedback if there are no matches for the start or stop codons.\n",
    "\n",
    "Why do we multiply the GC content calculation by 100?\n",
    "Multiplying by 100 converts the GC content from a fraction to a percentage, making it easier to interpret.\n",
    "\n",
    "Can this code handle lowercase DNA sequences?\n",
    "No, it only works with uppercase sequences because it specifically counts \"G\" and \"C\" and checks for uppercase motifs like \"CGT.\" To handle lowercase, we could use dna_sequence.upper() at the beginning.\n",
    "\n",
    "How could you modify the code to find a different motif in the sequence?\n",
    "To search for a different motif, simply change the motif variable to the desired sequence. The rest of the code will automatically search for that motif in the sequence."
   ]
  }
 ],
 "metadata": {
  "kernelspec": {
   "display_name": "Python 3 (ipykernel)",
   "language": "python",
   "name": "python3"
  },
  "language_info": {
   "codemirror_mode": {
    "name": "ipython",
    "version": 3
   },
   "file_extension": ".py",
   "mimetype": "text/x-python",
   "name": "python",
   "nbconvert_exporter": "python",
   "pygments_lexer": "ipython3",
   "version": "3.11.5"
  }
 },
 "nbformat": 4,
 "nbformat_minor": 5
}
