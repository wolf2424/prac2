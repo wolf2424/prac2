{
 "cells": [
  {
   "cell_type": "markdown",
   "id": "dfb92878",
   "metadata": {},
   "source": [
    "DNA Sequence Analysis. Task: Analyze a given\n",
    "DNA sequence and perform basic sequence manipulation,\n",
    "including finding motifs, calculating GC content, and\n",
    "identifying coding regions. Deliverable: A report\n",
    "summarizing the analysis results and any insights gained from\n",
    "the sequence."
   ]
  },
  {
   "cell_type": "code",
   "execution_count": 1,
   "id": "cd3cadad",
   "metadata": {},
   "outputs": [
    {
     "name": "stdout",
     "output_type": "stream",
     "text": [
      "DNA sequence: ATGCATCGATCGTACGATCGTAGCTAGCTAGCTAGCTAGCTAGCTAGCTAGCTAGCTAGCTAGCTAGCTAGCTAGCTAGCTAGCTAGCTAGCTAGCTAGCTAGCTAGCTAGCTAGCTAGCTAGCTAGCTAGCTAGCTAGCTAGCTAGCTAGCTAGCTAGCTAGCTAGCTAGCTAGCTAGCTAGCTAGCTAGCTAGCTAGCTAGCTAGCTAGCTAGCTAGCTAGCTAGCTAGCTAGCTAGCTAGCTAGCTAGCTAGCTAGCTAGCTAGCTAGCTAGCTAGCTAGCTAGCTAGCTAGCTAGCTAGCTAGCTAGCTAGCTAGCTAGCTAGCTAGCTAGCTAGCTAGCTAGCTAGCTAGCTAGCTAGCTAGCTAGCTAGCTAGCTAGCTAGCTAGCTAGCTAGCTAGCTAGCTAGCTAGCTAGCTAGCTAGCTAGCTAGCTAGCTAGCTAGCTA\n"
     ]
    }
   ],
   "source": [
    "dna_sequence = open(r\"F:\\BE\\My Cl2\\B1\\dna_sequence.txt\").read().strip()\n",
    "print(\"DNA sequence:\", dna_sequence)"
   ]
  },
  {
   "cell_type": "code",
   "execution_count": 2,
   "id": "0655759b",
   "metadata": {},
   "outputs": [
    {
     "name": "stdout",
     "output_type": "stream",
     "text": [
      "GC Content: 49.77777777777778 %\n"
     ]
    }
   ],
   "source": [
    "gc_content = (dna_sequence.count(\"G\") + dna_sequence.count(\"C\")) / len(dna_sequence) * 100\n",
    "print(\"GC Content:\", gc_content, \"%\")"
   ]
  },
  {
   "cell_type": "code",
   "execution_count": 4,
   "id": "ec2751b1",
   "metadata": {},
   "outputs": [
    {
     "name": "stdout",
     "output_type": "stream",
     "text": [
      "Motif CGT found at positions: [10, 18]\n"
     ]
    }
   ],
   "source": [
    "motif = \"CGT\"\n",
    "motif_positions = [i for i in range(len(dna_sequence)) if dna_sequence.startswith(motif, i)]\n",
    "print(\"Motif\", motif, \"found at positions:\", motif_positions)"
   ]
  },
  {
   "cell_type": "code",
   "execution_count": 5,
   "id": "77aa7732",
   "metadata": {},
   "outputs": [
    {
     "name": "stdout",
     "output_type": "stream",
     "text": [
      "Coding regions found:\n",
      "Start: 0 End: 27 Sequence: ATGCATCGATCGTACGATCGTAGCTAG\n"
     ]
    }
   ],
   "source": [
    "start_codon = \"ATG\"\n",
    "stop_codons = [\"TAA\", \"TAG\", \"TGA\"]\n",
    "coding_regions = []\n",
    "\n",
    "for i in range(len(dna_sequence) - 2):\n",
    "    if dna_sequence[i:i + 3] == start_codon:\n",
    "        for j in range(i + 3, len(dna_sequence) - 2, 3):\n",
    "            if dna_sequence[j:j + 3] in stop_codons:\n",
    "                coding_regions.append((i, j + 3))\n",
    "                break\n",
    "\n",
    "if coding_regions:\n",
    "    print(\"Coding regions found:\")\n",
    "    for start, end in coding_regions:\n",
    "        print(\"Start:\", start, \"End:\", end, \"Sequence:\", dna_sequence[start:end])\n",
    "else:\n",
    "    print(\"No coding regions found.\")"
   ]
  },
  {
   "cell_type": "code",
   "execution_count": 6,
   "id": "5517c806",
   "metadata": {},
   "outputs": [
    {
     "name": "stdout",
     "output_type": "stream",
     "text": [
      "Summary of DNA Sequence Analysis:\n",
      "GC Content: 49.77777777777778 %\n",
      "Motif positions: [10, 18]\n",
      "Coding regions: [(0, 27)]\n"
     ]
    }
   ],
   "source": [
    "#optional\n",
    "print(\"Summary of DNA Sequence Analysis:\")\n",
    "print(\"GC Content:\", gc_content, \"%\")\n",
    "print(\"Motif positions:\", motif_positions)\n",
    "print(\"Coding regions:\", coding_regions)"
   ]
  },
  {
   "cell_type": "code",
   "execution_count": null,
   "id": "0be13a59",
   "metadata": {},
   "outputs": [],
   "source": []
  }
 ],
 "metadata": {
  "kernelspec": {
   "display_name": "Python 3 (ipykernel)",
   "language": "python",
   "name": "python3"
  },
  "language_info": {
   "codemirror_mode": {
    "name": "ipython",
    "version": 3
   },
   "file_extension": ".py",
   "mimetype": "text/x-python",
   "name": "python",
   "nbconvert_exporter": "python",
   "pygments_lexer": "ipython3",
   "version": "3.11.5"
  }
 },
 "nbformat": 4,
 "nbformat_minor": 5
}
